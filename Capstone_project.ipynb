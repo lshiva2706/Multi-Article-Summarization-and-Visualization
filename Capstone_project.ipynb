{
  "nbformat": 4,
  "nbformat_minor": 0,
  "metadata": {
    "colab": {
      "name": "Capstone_project",
      "provenance": [],
      "collapsed_sections": []
    },
    "kernelspec": {
      "name": "python3",
      "display_name": "Python 3"
    }
  },
  "cells": [
    {
      "cell_type": "code",
      "metadata": {
        "id": "fuSktkERyLGd"
      },
      "source": [
        "\n",
        "import nltk\n",
        "from nltk.corpus import stopwords\n",
        "from nltk.cluster.util import cosine_distance\n",
        "import numpy as np\n",
        "import networkx as nx\n",
        "import spacy\n",
        "\n",
        " \n",
        "def read_article(file_name):\n",
        "    article = file_name.split(\". \")\n",
        "    sentences = []\n",
        "\n",
        "    for sentence in article:\n",
        "        print(sentence)\n",
        "        sentences.append(sentence.replace(\"[^a-zA-Z]\", \" \").split(\" \"))\n",
        "    sentences.pop() \n",
        "    \n",
        "    return sentences\n",
        "\n",
        "def sentence_similarity(sent1, sent2, stopwords=None):\n",
        "    if stopwords is None:\n",
        "        stopwords = []\n",
        " \n",
        "    sent1 = [w.lower() for w in sent1]\n",
        "    sent2 = [w.lower() for w in sent2]\n",
        " \n",
        "    all_words = list(set(sent1 + sent2))\n",
        " \n",
        "    vector1 = [0] * len(all_words)\n",
        "    vector2 = [0] * len(all_words)\n",
        " \n",
        "    \n",
        "    for w in sent1:\n",
        "        if w in stopwords:\n",
        "            continue\n",
        "        vector1[all_words.index(w)] += 1\n",
        " \n",
        "    \n",
        "    for w in sent2:\n",
        "        if w in stopwords:\n",
        "            continue\n",
        "        vector2[all_words.index(w)] += 1\n",
        " \n",
        "    return 1 - cosine_distance(vector1, vector2)\n",
        " \n",
        "def build_similarity_matrix(sentences, stop_words):\n",
        "    \n",
        "    similarity_matrix = np.zeros((len(sentences), len(sentences)))\n",
        " \n",
        "    for idx1 in range(len(sentences)):\n",
        "        for idx2 in range(len(sentences)):\n",
        "            if idx1 == idx2: \n",
        "                continue \n",
        "            similarity_matrix[idx1][idx2] = sentence_similarity(sentences[idx1], sentences[idx2], stop_words)\n",
        "\n",
        "    return similarity_matrix\n",
        "\n",
        "\n",
        "def generate_summary(file_name, top_n=5):\n",
        "    nltk.download(\"stopwords\")\n",
        "    stop_words = stopwords.words('english')\n",
        "    summarize_text = []\n",
        "    sentences =  read_article(file_name)\n",
        "    sentence_similarity_martix = build_similarity_matrix(sentences, stop_words)\n",
        "    sentence_similarity_graph = nx.from_numpy_array(sentence_similarity_martix)\n",
        "    scores = nx.pagerank(sentence_similarity_graph)\n",
        "    ranked_sentence = sorted(((scores[i],s) for i,s in enumerate(sentences)), reverse=True)    \n",
        "    for i in range(top_n):\n",
        "      summarize_text.append(\" \".join(ranked_sentence[i][1]))\n",
        "    summary=\". \".join(summarize_text)\n",
        "    return summary\n",
        "\n"
      ],
      "execution_count": null,
      "outputs": []
    },
    {
      "cell_type": "code",
      "metadata": {
        "id": "M7V9HYQRfEkk"
      },
      "source": [
        "import spacy\n",
        "def generate_keyword(summary):\n",
        "\n",
        "  nlp = spacy.load(\"en_core_web_sm\")\n",
        "  doc = nlp(summary)\n",
        "  return doc.ents[1].text"
      ],
      "execution_count": null,
      "outputs": []
    },
    {
      "cell_type": "code",
      "metadata": {
        "id": "da2japECLNS-",
        "outputId": "7e6eea8c-3d78-4476-9b23-8ce342b76255",
        "colab": {
          "base_uri": "https://localhost:8080/"
        }
      },
      "source": [
        "!pip install flask-ngrok"
      ],
      "execution_count": null,
      "outputs": [
        {
          "output_type": "stream",
          "text": [
            "Collecting flask-ngrok\n",
            "  Downloading https://files.pythonhosted.org/packages/af/6c/f54cb686ad1129e27d125d182f90f52b32f284e6c8df58c1bae54fa1adbc/flask_ngrok-0.0.25-py3-none-any.whl\n",
            "Requirement already satisfied: Flask>=0.8 in /usr/local/lib/python3.6/dist-packages (from flask-ngrok) (1.1.2)\n",
            "Requirement already satisfied: requests in /usr/local/lib/python3.6/dist-packages (from flask-ngrok) (2.23.0)\n",
            "Requirement already satisfied: Werkzeug>=0.15 in /usr/local/lib/python3.6/dist-packages (from Flask>=0.8->flask-ngrok) (1.0.1)\n",
            "Requirement already satisfied: Jinja2>=2.10.1 in /usr/local/lib/python3.6/dist-packages (from Flask>=0.8->flask-ngrok) (2.11.2)\n",
            "Requirement already satisfied: click>=5.1 in /usr/local/lib/python3.6/dist-packages (from Flask>=0.8->flask-ngrok) (7.1.2)\n",
            "Requirement already satisfied: itsdangerous>=0.24 in /usr/local/lib/python3.6/dist-packages (from Flask>=0.8->flask-ngrok) (1.1.0)\n",
            "Requirement already satisfied: urllib3!=1.25.0,!=1.25.1,<1.26,>=1.21.1 in /usr/local/lib/python3.6/dist-packages (from requests->flask-ngrok) (1.24.3)\n",
            "Requirement already satisfied: chardet<4,>=3.0.2 in /usr/local/lib/python3.6/dist-packages (from requests->flask-ngrok) (3.0.4)\n",
            "Requirement already satisfied: idna<3,>=2.5 in /usr/local/lib/python3.6/dist-packages (from requests->flask-ngrok) (2.10)\n",
            "Requirement already satisfied: certifi>=2017.4.17 in /usr/local/lib/python3.6/dist-packages (from requests->flask-ngrok) (2020.6.20)\n",
            "Requirement already satisfied: MarkupSafe>=0.23 in /usr/local/lib/python3.6/dist-packages (from Jinja2>=2.10.1->Flask>=0.8->flask-ngrok) (1.1.1)\n",
            "Installing collected packages: flask-ngrok\n",
            "Successfully installed flask-ngrok-0.0.25\n"
          ],
          "name": "stdout"
        }
      ]
    },
    {
      "cell_type": "code",
      "metadata": {
        "id": "Xp3xmZg6FOxv",
        "outputId": "4958f05f-cb33-4fa5-b5ed-ea71b9bea685",
        "colab": {
          "base_uri": "https://localhost:8080/"
        }
      },
      "source": [
        "!sudo apt-get install python3-magic"
      ],
      "execution_count": null,
      "outputs": [
        {
          "output_type": "stream",
          "text": [
            "Reading package lists... Done\n",
            "Building dependency tree       \n",
            "Reading state information... Done\n",
            "The following additional packages will be installed:\n",
            "  libmagic-mgc libmagic1\n",
            "Suggested packages:\n",
            "  file\n",
            "The following NEW packages will be installed:\n",
            "  libmagic-mgc libmagic1 python3-magic\n",
            "0 upgraded, 3 newly installed, 0 to remove and 12 not upgraded.\n",
            "Need to get 262 kB of archives.\n",
            "After this operation, 5,257 kB of additional disk space will be used.\n",
            "Get:1 http://archive.ubuntu.com/ubuntu bionic-updates/main amd64 libmagic-mgc amd64 1:5.32-2ubuntu0.4 [184 kB]\n",
            "Get:2 http://archive.ubuntu.com/ubuntu bionic-updates/main amd64 libmagic1 amd64 1:5.32-2ubuntu0.4 [68.6 kB]\n",
            "Get:3 http://archive.ubuntu.com/ubuntu bionic/main amd64 python3-magic all 2:0.4.15-1 [9,280 B]\n",
            "Fetched 262 kB in 2s (157 kB/s)\n",
            "debconf: unable to initialize frontend: Dialog\n",
            "debconf: (No usable dialog-like program is installed, so the dialog based frontend cannot be used. at /usr/share/perl5/Debconf/FrontEnd/Dialog.pm line 76, <> line 3.)\n",
            "debconf: falling back to frontend: Readline\n",
            "debconf: unable to initialize frontend: Readline\n",
            "debconf: (This frontend requires a controlling tty.)\n",
            "debconf: falling back to frontend: Teletype\n",
            "dpkg-preconfigure: unable to re-open stdin: \n",
            "Selecting previously unselected package libmagic-mgc.\n",
            "(Reading database ... 144786 files and directories currently installed.)\n",
            "Preparing to unpack .../libmagic-mgc_1%3a5.32-2ubuntu0.4_amd64.deb ...\n",
            "Unpacking libmagic-mgc (1:5.32-2ubuntu0.4) ...\n",
            "Selecting previously unselected package libmagic1:amd64.\n",
            "Preparing to unpack .../libmagic1_1%3a5.32-2ubuntu0.4_amd64.deb ...\n",
            "Unpacking libmagic1:amd64 (1:5.32-2ubuntu0.4) ...\n",
            "Selecting previously unselected package python3-magic.\n",
            "Preparing to unpack .../python3-magic_2%3a0.4.15-1_all.deb ...\n",
            "Unpacking python3-magic (2:0.4.15-1) ...\n",
            "Setting up libmagic-mgc (1:5.32-2ubuntu0.4) ...\n",
            "Setting up libmagic1:amd64 (1:5.32-2ubuntu0.4) ...\n",
            "Setting up python3-magic (2:0.4.15-1) ...\n",
            "Processing triggers for man-db (2.8.3-2ubuntu0.1) ...\n",
            "Processing triggers for libc-bin (2.27-3ubuntu1.2) ...\n",
            "/sbin/ldconfig.real: /usr/local/lib/python3.6/dist-packages/ideep4py/lib/libmkldnn.so.0 is not a symbolic link\n",
            "\n"
          ],
          "name": "stdout"
        }
      ]
    },
    {
      "cell_type": "code",
      "metadata": {
        "id": "CGhS_IVCJkA9",
        "outputId": "693bfb00-e7dc-4df4-ec73-a1cb0aeb7b90",
        "colab": {
          "base_uri": "https://localhost:8080/"
        }
      },
      "source": [
        "pip install gTTS"
      ],
      "execution_count": null,
      "outputs": [
        {
          "output_type": "stream",
          "text": [
            "Collecting gTTS\n",
            "  Downloading https://files.pythonhosted.org/packages/44/31/4494ecac89677d3c839d079363ab655c4751764803ddcd22bcc37f6d32f8/gTTS-2.2.1-py3-none-any.whl\n",
            "Requirement already satisfied: click in /usr/local/lib/python3.6/dist-packages (from gTTS) (7.1.2)\n",
            "Requirement already satisfied: requests in /usr/local/lib/python3.6/dist-packages (from gTTS) (2.23.0)\n",
            "Requirement already satisfied: six in /usr/local/lib/python3.6/dist-packages (from gTTS) (1.15.0)\n",
            "Requirement already satisfied: chardet<4,>=3.0.2 in /usr/local/lib/python3.6/dist-packages (from requests->gTTS) (3.0.4)\n",
            "Requirement already satisfied: certifi>=2017.4.17 in /usr/local/lib/python3.6/dist-packages (from requests->gTTS) (2020.6.20)\n",
            "Requirement already satisfied: idna<3,>=2.5 in /usr/local/lib/python3.6/dist-packages (from requests->gTTS) (2.10)\n",
            "Requirement already satisfied: urllib3!=1.25.0,!=1.25.1,<1.26,>=1.21.1 in /usr/local/lib/python3.6/dist-packages (from requests->gTTS) (1.24.3)\n",
            "Installing collected packages: gTTS\n",
            "Successfully installed gTTS-2.2.1\n"
          ],
          "name": "stdout"
        }
      ]
    },
    {
      "cell_type": "code",
      "metadata": {
        "id": "AVxBqoahJjLI"
      },
      "source": [
        "from gtts import gTTS \n",
        "\n",
        "def convert_summary_to_audio(summary_text, filename):\n",
        "  mytext = summary_text\n",
        "  language = 'en'\n",
        "  myobj = gTTS(text=mytext, lang=language, slow=False) \n",
        "  myobj.save(\"static/\"+filename+\".mp3\") \n",
        "\n"
      ],
      "execution_count": null,
      "outputs": []
    },
    {
      "cell_type": "code",
      "metadata": {
        "id": "9JEuMzI5GhEi"
      },
      "source": [
        "import os\n",
        "import time\n",
        "import urllib\n",
        "import requests\n",
        "import magic\n",
        "import progressbar\n",
        "from urllib.parse import quote\n",
        "\n",
        "class simple_image_download:\n",
        "    def __init__(self):\n",
        "        pass\n",
        "\n",
        "    def urls(self, keywords, limit, extensions={'.jpg', '.png', '.ico', '.gif', '.jpeg'}):\n",
        "        keyword_to_search = [str(item).strip() for item in keywords.split(',')]\n",
        "        i = 0\n",
        "        links = []\n",
        "\n",
        "        things = len(keyword_to_search) * limit\n",
        "\n",
        "        # bar = progressbar.ProgressBar(maxval=things, \\\n",
        "                                      # widgets=[progressbar.Bar('=', '[', ']'), ' ', progressbar.Percentage()]).start()\n",
        "\n",
        "        while i < len(keyword_to_search):\n",
        "            url = 'https://www.google.com/search?q=' + quote(\n",
        "                keyword_to_search[i].encode(\n",
        "                    'utf-8')) + '&biw=1536&bih=674&tbm=isch&sxsrf=ACYBGNSXXpS6YmAKUiLKKBs6xWb4uUY5gA:1581168823770&source=lnms&sa=X&ved=0ahUKEwioj8jwiMLnAhW9AhAIHbXTBMMQ_AUI3QUoAQ'\n",
        "            raw_html = self._download_page(url)\n",
        "\n",
        "            end_object = -1;\n",
        "            google_image_seen = False;\n",
        "            j = 0\n",
        "\n",
        "            while j < limit:\n",
        "                while (True):\n",
        "                    try:\n",
        "                        new_line = raw_html.find('\"https://', end_object + 1)\n",
        "                        end_object = raw_html.find('\"', new_line + 1)\n",
        "\n",
        "                        buffor = raw_html.find('\\\\', new_line + 1, end_object)\n",
        "                        if buffor != -1:\n",
        "                            object_raw = (raw_html[new_line + 1:buffor])\n",
        "                        else:\n",
        "                            object_raw = (raw_html[new_line + 1:end_object])\n",
        "\n",
        "                        if any(extension in object_raw for extension in extensions):\n",
        "                            break\n",
        "\n",
        "                    except Exception as e:\n",
        "                        break\n",
        "\n",
        "\n",
        "                try:\n",
        "                    r = requests.get(object_raw, allow_redirects=True, timeout=1)\n",
        "                    if('html' not in str(r.content)):\n",
        "                        mime = magic.Magic(mime=True)\n",
        "                        file_type = mime.from_buffer(r.content)\n",
        "                        file_extension = f'.{file_type.split(\"/\")[1]}'\n",
        "                        if file_extension == '.png' and not google_image_seen:\n",
        "                            google_image_seen = True\n",
        "                            raise ValueError();\n",
        "                        links.append(object_raw)\n",
        "                        # bar.update(bar.currval + 1)\n",
        "                    else:\n",
        "                        j -= 1\n",
        "                except Exception as e:\n",
        "                    j -= 1\n",
        "                j += 1\n",
        "\n",
        "            i += 1\n",
        "\n",
        "        # bar.finish()\n",
        "        return(links)\n",
        "\n",
        "\n",
        "    def download(self, keywords, limit, extensions={'.jpg', '.png', '.ico', '.gif', '.jpeg'}):\n",
        "        keyword_to_search = [str(item).strip() for item in keywords.split(',')]\n",
        "        main_directory = \"static/\"\n",
        "        i = 0\n",
        "\n",
        "        things = len(keyword_to_search) * limit\n",
        "\n",
        "        # bar = progressbar.ProgressBar(maxval=things, \\\n",
        "                                      # widgets=[progressbar.Bar('=', '[', ']'), ' ', progressbar.Percentage()])\n",
        "\n",
        "        # bar.start()\n",
        "\n",
        "        while i < len(keyword_to_search):\n",
        "            self._create_directories(main_directory, keyword_to_search[i])\n",
        "            url = 'https://www.google.com/search?q=' + quote(\n",
        "                keyword_to_search[i].encode('utf-8')) + '&biw=1536&bih=674&tbm=isch&sxsrf=ACYBGNSXXpS6YmAKUiLKKBs6xWb4uUY5gA:1581168823770&source=lnms&sa=X&ved=0ahUKEwioj8jwiMLnAhW9AhAIHbXTBMMQ_AUI3QUoAQ'\n",
        "            raw_html = self._download_page(url)\n",
        "\n",
        "            end_object = -1;\n",
        "            google_image_seen = False;\n",
        "            j = 0\n",
        "            while j < limit:\n",
        "                while (True):\n",
        "                    try:\n",
        "                        new_line = raw_html.find('\"https://', end_object + 1)\n",
        "                        end_object = raw_html.find('\"', new_line + 1)\n",
        "\n",
        "                        buffor = raw_html.find('\\\\', new_line + 1, end_object)\n",
        "                        if buffor != -1:\n",
        "                            object_raw = (raw_html[new_line+1:buffor])\n",
        "                        else:\n",
        "                            object_raw = (raw_html[new_line+1:end_object])\n",
        "\n",
        "                        if any(extension in object_raw for extension in extensions):\n",
        "                            break\n",
        "\n",
        "                    except Exception as e:\n",
        "                        break\n",
        "                path = main_directory + keyword_to_search[i].replace(\" \", \"_\")\n",
        "\n",
        "                try:\n",
        "                    r = requests.get(object_raw, allow_redirects=True, timeout=1)\n",
        "                    if('html' not in str(r.content)):\n",
        "                        mime = magic.Magic(mime=True)\n",
        "                        file_type = mime.from_buffer(r.content)\n",
        "                        file_extension = f'.{file_type.split(\"/\")[1]}'\n",
        "                        if file_extension not in extensions:\n",
        "                            raise ValueError()\n",
        "                        if file_extension == '.png' and not google_image_seen:\n",
        "                            google_image_seen = True\n",
        "                            raise ValueError()\n",
        "                        file_name = str(keyword_to_search[i]) + \"_\" + str(j + 1) + file_extension\n",
        "                        with open(os.path.join(path, file_name), 'wb') as file:\n",
        "                            file.write(r.content)\n",
        "                        # bar.update(bar.currval + 1)\n",
        "                    else:\n",
        "                        j -= 1\n",
        "                except Exception as e:\n",
        "                    j -= 1\n",
        "                j += 1\n",
        "\n",
        "            i += 1\n",
        "        # bar.finish()\n",
        "\n",
        "\n",
        "    def _create_directories(self, main_directory, name):\n",
        "        name = name.replace(\" \", \"_\")\n",
        "        try:\n",
        "            if not os.path.exists(main_directory):\n",
        "                os.makedirs(main_directory)\n",
        "                time.sleep(0.2)\n",
        "                path = (name)\n",
        "                sub_directory = os.path.join(main_directory, path)\n",
        "                if not os.path.exists(sub_directory):\n",
        "                    os.makedirs(sub_directory)\n",
        "            else:\n",
        "                path = (name)\n",
        "                sub_directory = os.path.join(main_directory, path)\n",
        "                if not os.path.exists(sub_directory):\n",
        "                    os.makedirs(sub_directory)\n",
        "\n",
        "        except OSError as e:\n",
        "            if e.errno != 17:\n",
        "                raise\n",
        "            pass\n",
        "        return\n",
        "\n",
        "    def _download_page(self,url):\n",
        "\n",
        "        try:\n",
        "            headers = {}\n",
        "            headers['User-Agent'] = \"Mozilla/5.0 (X11; Linux x86_64) AppleWebKit/537.36 (KHTML, like Gecko) Chrome/77.0.3865.90 Safari/537.36\"\n",
        "            req = urllib.request.Request(url, headers=headers)\n",
        "            resp = urllib.request.urlopen(req)\n",
        "            respData = str(resp.read())\n",
        "            return respData\n",
        "\n",
        "        except Exception as e:\n",
        "            print(e)\n",
        "            exit(0)"
      ],
      "execution_count": null,
      "outputs": []
    },
    {
      "cell_type": "code",
      "metadata": {
        "id": "bU-8-mj8Jpyf"
      },
      "source": [
        "%mkdir static -p\n",
        "%mkdir templates -p"
      ],
      "execution_count": null,
      "outputs": []
    },
    {
      "cell_type": "code",
      "metadata": {
        "id": "-ZK3JdqSLGoj",
        "outputId": "157d6aed-8a96-4e34-f072-74377e494a77",
        "colab": {
          "base_uri": "https://localhost:8080/"
        }
      },
      "source": [
        "from flask_ngrok import run_with_ngrok\n",
        "import json\n",
        "from flask import Flask, render_template, request, redirect, url_for\n",
        "app = Flask(__name__)\n",
        "run_with_ngrok(app)   #starts ngrok when the app is run\n",
        "\n",
        "summaries=[['Democratic candidate Joe Biden Wednesday said he was optimistic of a win in the US presidential elections and thanked his supporters for their patience.  Both Trump and Biden have made expected gains in smaller states','../static/trump.jpeg','../static/trump.mp3'],\n",
        "           ['However, while the victory ensured the Hyderabad team got a spot in the playoffs, it also knocked Kolkata Knight Riders out of the tournament. However, with a victory needed to qualify, Sunrisers Hyderabad skipper David Warner and Wriddhiman Saha ensured the team chased down a total of 150 at a canter without losing a single wicket','../static/srh.jpeg','../static/trump.mp3'],\n",
        "           ['PayPal  this week laid out its vision for the future of its digital wallet platform and its PayPal and Venmo  apps.  What’s more, PayPal put timeline on the Honey integrations and the other updates it plans to roll out over the course of the next year','../static/paypal.jpeg','../static/paypal.mp3'],\n",
        "           ['Scientists have developed a vaccine candidate for COVID-19 that produces \"extremely high levels\" of protective antibodies in animal models, an advance that may lead to a novel therapeutic to curb the pandemic.  According to the study, the molecular structure of the vaccine roughly mimics that of a virus, which may account for its enhanced ability to provoke an immune response','../static/covid.jpeg','../static/covid.mp3']]\n",
        "images=['../static/trump.jpeg','../static/srh.jpeg','../static/paypal.jpeg','../static/covid.jpeg']\n",
        "audios=['../static/trump.mp3','../static/srh.mp3','../static/paypal.mp3','../static/covid.mp3']\n",
        "\n",
        "@app.route('/', methods=['POST', 'GET'])\n",
        "def login():\n",
        "    if request.method == 'POST':\n",
        "        email = request.form['email']\n",
        "        password = request.form['password']\n",
        "        print(password)\n",
        "        print(email)\n",
        "        return redirect('home')\n",
        "    return render_template('login.html')\n",
        "\n",
        "\n",
        "@app.route('/home', methods=['POST', 'GET'])\n",
        "def index():\n",
        "    if request.method == 'POST':\n",
        "        # summary = json.dumps({\"summary\" : generate_summary(request.form['summary'], 2)})\n",
        "        summary = generate_summary(request.form['summary'], 2)\n",
        "        keyword=generate_keyword(summary)\n",
        "        print(summary)\n",
        "        print(keyword)\n",
        "        generate_image = simple_image_download\n",
        "        generate_image().download(keyword, 1,extensions={'.png'})\n",
        "        # keyword = keyword.replace(\" \", \"_\")\n",
        "        image=\"../static/\"+keyword.replace(\" \", \"_\")+\"/\"+keyword+\"_1.png\"\n",
        "        convert_summary_to_audio(summary,keyword.replace(\" \", \"_\"))\n",
        "        filename=\"../static/\"+keyword.replace(\" \", \"_\")+\".mp3\"\n",
        "        return redirect(url_for('summary', summary=summary, image=image, audio=filename))\n",
        "    return render_template('index.html')\n",
        "\n",
        "\n",
        "@app.route('/summary', methods=['POST', 'GET'])\n",
        "def summary():\n",
        "    if request.method == 'POST':\n",
        "        return redirect('posts')\n",
        "    summary=request.args['summary']\n",
        "    image=request.args['image']\n",
        "    audio=request.args['audio']\n",
        "    summaries.insert(0,[summary,image,audio])\n",
        "    images.insert(0,image)\n",
        "    audios.insert(0,audio)\n",
        "    return render_template('summary.html', summary=summary, image=image, audio=audio)\n",
        "\n",
        "\n",
        "@app.route('/posts', methods=['POST', 'GET'])\n",
        "def posts():\n",
        "    return render_template('posts.html',summaries=summaries,images=images)\n",
        "  \n",
        "app.run()"
      ],
      "execution_count": null,
      "outputs": [
        {
          "output_type": "stream",
          "text": [
            " * Serving Flask app \"__main__\" (lazy loading)\n",
            " * Environment: production\n",
            "\u001b[31m   WARNING: This is a development server. Do not use it in a production deployment.\u001b[0m\n",
            "\u001b[2m   Use a production WSGI server instead.\u001b[0m\n",
            " * Debug mode: off\n"
          ],
          "name": "stdout"
        },
        {
          "output_type": "stream",
          "text": [
            " * Running on http://127.0.0.1:5000/ (Press CTRL+C to quit)\n"
          ],
          "name": "stderr"
        },
        {
          "output_type": "stream",
          "text": [
            " * Running on http://aa4ad271de2f.ngrok.io\n",
            " * Traffic stats available on http://127.0.0.1:4040\n"
          ],
          "name": "stdout"
        },
        {
          "output_type": "stream",
          "text": [
            "127.0.0.1 - - [16/Nov/2020 13:47:09] \"\u001b[37mGET / HTTP/1.1\u001b[0m\" 200 -\n",
            "127.0.0.1 - - [16/Nov/2020 13:47:10] \"\u001b[37mGET /static/style.css HTTP/1.1\u001b[0m\" 200 -\n",
            "127.0.0.1 - - [16/Nov/2020 13:47:10] \"\u001b[37mGET /static/user.png HTTP/1.1\u001b[0m\" 200 -\n",
            "127.0.0.1 - - [16/Nov/2020 13:47:10] \"\u001b[33mGET /favicon.ico HTTP/1.1\u001b[0m\" 404 -\n",
            "127.0.0.1 - - [16/Nov/2020 13:47:22] \"\u001b[32mPOST / HTTP/1.1\u001b[0m\" 302 -\n"
          ],
          "name": "stderr"
        },
        {
          "output_type": "stream",
          "text": [
            "Pass@13856\n",
            "admin@gmail.com\n"
          ],
          "name": "stdout"
        },
        {
          "output_type": "stream",
          "text": [
            "127.0.0.1 - - [16/Nov/2020 13:47:22] \"\u001b[37mGET /home HTTP/1.1\u001b[0m\" 200 -\n",
            "127.0.0.1 - - [16/Nov/2020 13:47:23] \"\u001b[37mGET /static/style1.css HTTP/1.1\u001b[0m\" 200 -\n",
            "127.0.0.1 - - [16/Nov/2020 13:47:42] \"\u001b[33mGET /robots.txt HTTP/1.1\u001b[0m\" 404 -\n",
            "127.0.0.1 - - [16/Nov/2020 13:47:42] \"\u001b[33mGET /robots.txt HTTP/1.1\u001b[0m\" 404 -\n",
            "127.0.0.1 - - [16/Nov/2020 13:47:43] \"\u001b[33mGET /ads.txt HTTP/1.1\u001b[0m\" 404 -\n",
            "127.0.0.1 - - [16/Nov/2020 13:47:59] \"\u001b[37mGET /home HTTP/1.1\u001b[0m\" 200 -\n"
          ],
          "name": "stderr"
        },
        {
          "output_type": "stream",
          "text": [
            "[nltk_data] Downloading package stopwords to /root/nltk_data...\n",
            "[nltk_data]   Package stopwords is already up-to-date!\n",
            "Riding without a helmet can now lead to a 3-month suspension of your driving license in Karnataka\n",
            "Yes, you got it right.Karnataka`s Transport Department has made helmets mandatory for all people riding on the two-wheelers and imposed a three-month suspension of driving license for non-compliance.As per new directives, helmets are mandatory for all two-wheeler riders who are over four years of age\n",
            "State govt has imposed a 3-month suspension of driving license along with a penalty in case of violation,the State Department of Transport, Karnataka said in its order.The state transport department has also issued a directive to strictly enforce the old rules for the safety of the riders.As per the rule, Under the Central Motor Vehicle Act, motorcycle riders must wear a helmet\n",
            "As per the Karnataka Motor Vehicle Rule, all bikers in the state wearing helmets are mandatory.This new order comes after the Supreme Court`s direction to the state`s Road Safety Committee to strictly enforce the mandatory helmet-wearing rule for all persons traveling on two-wheelers in the state.\n",
            "Riding without a helmet can now lead to a 3-month suspension of your driving license in Karnataka. State govt has imposed a 3-month suspension of driving license along with a penalty in case of violation,the State Department of Transport, Karnataka said in its order.The state transport department has also issued a directive to strictly enforce the old rules for the safety of the riders.As per the rule, Under the Central Motor Vehicle Act, motorcycle riders must wear a helmet\n",
            "the State Department of Transport\n"
          ],
          "name": "stdout"
        },
        {
          "output_type": "stream",
          "text": [
            "127.0.0.1 - - [16/Nov/2020 13:48:38] \"\u001b[32mPOST /home HTTP/1.1\u001b[0m\" 302 -\n",
            "127.0.0.1 - - [16/Nov/2020 13:48:39] \"\u001b[37mGET /summary?summary=Riding+without+a+helmet+can+now+lead+to+a+3-month+suspension+of+your+driving+license+in+Karnataka.+State+govt+has+imposed+a+3-month+suspension+of+driving+license+along+with+a+penalty+in+case+of+violation%2Cthe+State+Department+of+Transport%2C+Karnataka+said+in+its+order.The+state+transport+department+has+also+issued+a+directive+to+strictly+enforce+the+old+rules+for+the+safety+of+the+riders.As+per+the+rule%2C+Under+the+Central+Motor+Vehicle+Act%2C+motorcycle+riders+must+wear+a+helmet&image=..%2Fstatic%2Fthe_State_Department_of_Transport%2Fthe+State+Department+of+Transport_1.png&audio=..%2Fstatic%2Fthe_State_Department_of_Transport.mp3 HTTP/1.1\u001b[0m\" 200 -\n",
            "127.0.0.1 - - [16/Nov/2020 13:48:39] \"\u001b[37mGET /static/the_State_Department_of_Transport/the%20State%20Department%20of%20Transport_1.png HTTP/1.1\u001b[0m\" 200 -\n",
            "127.0.0.1 - - [16/Nov/2020 13:48:39] \"\u001b[37mGET /static/style3.css HTTP/1.1\u001b[0m\" 200 -\n",
            "127.0.0.1 - - [16/Nov/2020 13:48:39] \"\u001b[37mGET /static/the_State_Department_of_Transport.mp3 HTTP/1.1\u001b[0m\" 206 -\n",
            "127.0.0.1 - - [16/Nov/2020 13:49:25] \"\u001b[33mGET /favicon.ico HTTP/1.1\u001b[0m\" 404 -\n",
            "127.0.0.1 - - [16/Nov/2020 13:49:29] \"\u001b[37mGET /static/the_State_Department_of_Transport.mp3 HTTP/1.1\u001b[0m\" 206 -\n",
            "127.0.0.1 - - [16/Nov/2020 13:49:47] \"\u001b[37mGET /summary?summary=Riding+without+a+helmet+can+now+lead+to+a+3-month+suspension+of+your+driving+license+in+Karnataka.+State+govt+has+imposed+a+3-month+suspension+of+driving+license+along+with+a+penalty+in+case+of+violation,the+State+Department+of+Transport,+Karnataka+said+in+its+order.The+state+transport+department+has+also+issued+a+directive+to+strictly+enforce+the+old+rules+for+the+safety+of+the+riders.As+per+the+rule,+Under+the+Central+Motor+Vehicle+Act,+motorcycle+riders+must+wear+a+helmet&image=../static/the_State_Department_of_Transport/the+State+Department+of+Transport_1.png&audio=../static/the_State_Department_of_Transport.mp3 HTTP/1.1\u001b[0m\" 200 -\n",
            "127.0.0.1 - - [16/Nov/2020 13:49:51] \"\u001b[32mPOST /summary?summary=Riding+without+a+helmet+can+now+lead+to+a+3-month+suspension+of+your+driving+license+in+Karnataka.+State+govt+has+imposed+a+3-month+suspension+of+driving+license+along+with+a+penalty+in+case+of+violation%2Cthe+State+Department+of+Transport%2C+Karnataka+said+in+its+order.The+state+transport+department+has+also+issued+a+directive+to+strictly+enforce+the+old+rules+for+the+safety+of+the+riders.As+per+the+rule%2C+Under+the+Central+Motor+Vehicle+Act%2C+motorcycle+riders+must+wear+a+helmet&image=..%2Fstatic%2Fthe_State_Department_of_Transport%2Fthe+State+Department+of+Transport_1.png&audio=..%2Fstatic%2Fthe_State_Department_of_Transport.mp3 HTTP/1.1\u001b[0m\" 302 -\n",
            "127.0.0.1 - - [16/Nov/2020 13:49:52] \"\u001b[37mGET /posts HTTP/1.1\u001b[0m\" 200 -\n",
            "127.0.0.1 - - [16/Nov/2020 13:49:52] \"\u001b[37mGET /static/style2.css HTTP/1.1\u001b[0m\" 200 -\n",
            "127.0.0.1 - - [16/Nov/2020 13:49:52] \"\u001b[37mGET /static/trump.jpeg HTTP/1.1\u001b[0m\" 200 -\n",
            "127.0.0.1 - - [16/Nov/2020 13:49:52] \"\u001b[37mGET /static/srh.jpeg HTTP/1.1\u001b[0m\" 200 -\n",
            "127.0.0.1 - - [16/Nov/2020 13:49:52] \"\u001b[37mGET /static/paypal.jpeg HTTP/1.1\u001b[0m\" 200 -\n",
            "127.0.0.1 - - [16/Nov/2020 13:49:52] \"\u001b[37mGET /static/trump.mp3 HTTP/1.1\u001b[0m\" 206 -\n",
            "127.0.0.1 - - [16/Nov/2020 13:49:52] \"\u001b[37mGET /static/covid.jpeg HTTP/1.1\u001b[0m\" 200 -\n",
            "127.0.0.1 - - [16/Nov/2020 13:49:53] \"\u001b[37mGET /static/paypal.mp3 HTTP/1.1\u001b[0m\" 206 -\n",
            "127.0.0.1 - - [16/Nov/2020 13:49:53] \"\u001b[37mGET /static/covid.mp3 HTTP/1.1\u001b[0m\" 206 -\n",
            "127.0.0.1 - - [16/Nov/2020 13:49:53] \"\u001b[37mGET /static/trump.mp3 HTTP/1.1\u001b[0m\" 206 -\n",
            "127.0.0.1 - - [16/Nov/2020 13:50:58] \"\u001b[37mGET /posts HTTP/1.1\u001b[0m\" 200 -\n"
          ],
          "name": "stderr"
        }
      ]
    },
    {
      "cell_type": "code",
      "metadata": {
        "id": "zPVJ-_smnqYx"
      },
      "source": [
        ""
      ],
      "execution_count": null,
      "outputs": []
    }
  ]
}